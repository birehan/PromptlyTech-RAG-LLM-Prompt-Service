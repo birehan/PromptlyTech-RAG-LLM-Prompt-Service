{
 "cells": [
  {
   "cell_type": "markdown",
   "metadata": {},
   "source": [
    "# Design and Develop the Prompt Generation System\n",
    "- Users can input a description of their objective or task and specify a few scenarios along with their expected outputs. \n",
    "- Write or adopt sophisticated algorithms, you generate multiple prompt options based on the provided information. \n",
    "- This automated prompt generation process saves time and provides a diverse <br/>\n",
    "range of alternatives to consider. But add an evaluation metrics that check <br/> \n",
    "whether the generated prompt candidate aligns with the input description.\n"
   ]
  },
  {
   "cell_type": "markdown",
   "metadata": {},
   "source": [
    "### Import Packages"
   ]
  },
  {
   "cell_type": "code",
   "execution_count": 1,
   "metadata": {},
   "outputs": [],
   "source": [
    "import os\n",
    "import sys\n",
    "from dotenv import load_dotenv,find_dotenv\n",
    "sys.path.append(os.path.abspath(os.path.join('../utility')))"
   ]
  },
  {
   "cell_type": "code",
   "execution_count": 5,
   "metadata": {},
   "outputs": [],
   "source": [
    "from rag_utils import data_loader, create_langchain_pipeline, create_retriever"
   ]
  },
  {
   "cell_type": "markdown",
   "metadata": {},
   "source": [
    "### Load OPENAI KEY from .env"
   ]
  },
  {
   "cell_type": "code",
   "execution_count": 6,
   "metadata": {},
   "outputs": [
    {
     "data": {
      "text/plain": [
       "True"
      ]
     },
     "execution_count": 6,
     "metadata": {},
     "output_type": "execute_result"
    }
   ],
   "source": [
    "# Load OpenAI API key from .env file\n",
    "load_dotenv(find_dotenv())"
   ]
  },
  {
   "cell_type": "markdown",
   "metadata": {},
   "source": [
    "### Load the dataset and create chunks"
   ]
  },
  {
   "cell_type": "code",
   "execution_count": 7,
   "metadata": {},
   "outputs": [
    {
     "name": "stderr",
     "output_type": "stream",
     "text": [
      "2024-01-19 19:58:20,619:logger:data loaded to vector database successfully\n"
     ]
    }
   ],
   "source": [
    "chunks = data_loader()"
   ]
  },
  {
   "cell_type": "markdown",
   "metadata": {},
   "source": [
    "### Create vector database and retriever"
   ]
  },
  {
   "cell_type": "code",
   "execution_count": 9,
   "metadata": {},
   "outputs": [
    {
     "name": "stdout",
     "output_type": "stream",
     "text": [
      "Started /home/babi/.cache/weaviate-embedded: process ID 105855\n"
     ]
    },
    {
     "name": "stderr",
     "output_type": "stream",
     "text": [
      "{\"action\":\"startup\",\"default_vectorizer_module\":\"none\",\"level\":\"info\",\"msg\":\"the default vectorizer modules is set to \\\"none\\\", as a result all new schema classes without an explicit vectorizer setting, will use this vectorizer\",\"time\":\"2024-01-19T19:58:34+03:00\"}\n",
      "{\"action\":\"startup\",\"auto_schema_enabled\":true,\"level\":\"info\",\"msg\":\"auto schema enabled setting is set to \\\"true\\\"\",\"time\":\"2024-01-19T19:58:34+03:00\"}\n",
      "{\"level\":\"info\",\"msg\":\"No resource limits set, weaviate will use all available memory and CPU. To limit resources, set LIMIT_RESOURCES=true\",\"time\":\"2024-01-19T19:58:34+03:00\"}\n",
      "{\"level\":\"warning\",\"msg\":\"Multiple vector spaces are present, GraphQL Explore and REST API list objects endpoint module include params has been disabled as a result.\",\"time\":\"2024-01-19T19:58:34+03:00\"}\n",
      "{\"action\":\"grpc_startup\",\"level\":\"info\",\"msg\":\"grpc server listening at [::]:50060\",\"time\":\"2024-01-19T19:58:34+03:00\"}\n",
      "{\"action\":\"restapi_management\",\"level\":\"info\",\"msg\":\"Serving weaviate at http://127.0.0.1:8079\",\"time\":\"2024-01-19T19:58:34+03:00\"}\n",
      "{\"level\":\"info\",\"msg\":\"Created shard langchain_5125cd6873384faa9eb7e1ce526d7323_ZPDkffgDLlLD in 760.601µs\",\"time\":\"2024-01-19T19:58:35+03:00\"}\n",
      "{\"action\":\"hnsw_vector_cache_prefill\",\"count\":1000,\"index_id\":\"main\",\"level\":\"info\",\"limit\":1000000000000,\"msg\":\"prefilled vector cache\",\"time\":\"2024-01-19T19:58:35+03:00\",\"took\":92315}\n",
      "2024-01-19 19:58:35,455:logger:An unexpected error occurred: Error code: 401 - {'error': {'message': 'Incorrect API key provided: sk-pW9Yf***************************************qF8E. You can find your API key at https://platform.openai.com/account/api-keys.', 'type': 'invalid_request_error', 'param': None, 'code': 'invalid_api_key'}}\n",
      "{\"action\":\"restapi_management\",\"level\":\"info\",\"msg\":\"Shutting down... \",\"time\":\"2024-01-19T19:58:35+03:00\"}\n",
      "{\"action\":\"restapi_management\",\"level\":\"info\",\"msg\":\"Stopped serving weaviate at http://127.0.0.1:8079\",\"time\":\"2024-01-19T19:58:35+03:00\"}\n"
     ]
    }
   ],
   "source": [
    "retriever = create_retriever(chunks)"
   ]
  },
  {
   "cell_type": "code",
   "execution_count": 10,
   "metadata": {},
   "outputs": [],
   "source": [
    "retriever"
   ]
  },
  {
   "cell_type": "code",
   "execution_count": 11,
   "metadata": {},
   "outputs": [],
   "source": [
    "# Specify the path to your .txt file\n",
    "file_path = '../prompts/prompt-generation-prompt.txt'\n",
    "\n",
    "# Open the file in read mode\n",
    "with open(file_path, 'r') as file:\n",
    "    # Read the contents of the file\n",
    "    file_contents = file.read()"
   ]
  },
  {
   "cell_type": "code",
   "execution_count": 12,
   "metadata": {},
   "outputs": [
    {
     "name": "stderr",
     "output_type": "stream",
     "text": [
      "/home/babi/miniconda3/envs/tenx_week6/lib/python3.12/site-packages/langchain_core/_api/deprecation.py:117: LangChainDeprecationWarning: The class `langchain_community.chat_models.openai.ChatOpenAI` was deprecated in langchain-community 0.0.10 and will be removed in 0.2.0. An updated version of the class exists in the langchain-openai package and should be used instead. To use it run `pip install -U langchain-openai` and import as `from langchain_openai import ChatOpenAI`.\n",
      "  warn_deprecated(\n",
      "2024-01-19 19:58:46,019:logger:An unexpected error occurred: Expected a Runnable, callable or dict.Instead got an unsupported type: <class 'NoneType'>\n"
     ]
    }
   ],
   "source": [
    "rag_chain = create_langchain_pipeline(retriever, file_contents)"
   ]
  },
  {
   "cell_type": "code",
   "execution_count": 13,
   "metadata": {},
   "outputs": [],
   "source": [
    "rag_chain"
   ]
  },
  {
   "cell_type": "code",
   "execution_count": 14,
   "metadata": {},
   "outputs": [
    {
     "ename": "AttributeError",
     "evalue": "'NoneType' object has no attribute 'invoke'",
     "output_type": "error",
     "traceback": [
      "\u001b[0;31m---------------------------------------------------------------------------\u001b[0m",
      "\u001b[0;31mAttributeError\u001b[0m                            Traceback (most recent call last)",
      "Cell \u001b[0;32mIn[14], line 1\u001b[0m\n\u001b[0;32m----> 1\u001b[0m generated_prompts \u001b[38;5;241m=\u001b[39m \u001b[43mrag_chain\u001b[49m\u001b[38;5;241;43m.\u001b[39;49m\u001b[43minvoke\u001b[49m(\u001b[38;5;124m\"\u001b[39m\u001b[38;5;124mquestions about the challenge documnet\u001b[39m\u001b[38;5;124m\"\u001b[39m)\n",
      "\u001b[0;31mAttributeError\u001b[0m: 'NoneType' object has no attribute 'invoke'"
     ]
    }
   ],
   "source": [
    "generated_prompts = rag_chain.invoke(\"questions about the challenge documnet\")"
   ]
  },
  {
   "cell_type": "code",
   "execution_count": 13,
   "metadata": {},
   "outputs": [
    {
     "data": {
      "text/plain": [
       "'[\\n  {\\n    \"prompt\": \"When did OpenAI showcase the capabilities of reinforcement learning algorithms through its \\'OpenAI Five\\' project?\",\\n    \"ground_truth\": \"OpenAI showcased the capabilities of these reinforcement learning algorithms through its ‘OpenAI Five’ project in 2018.\"\\n  },\\n  {\\n    \"prompt\": \"Who founded OpenAI?\",\\n    \"ground_truth\": \"OpenAI was initially founded in 2015 by Sam Altman, Elon Musk, Ilya Sutskever and Greg Brockman.\"\\n  },\\n  {\\n    \"prompt\": \"What is the goal of OpenAI?\",\\n    \"ground_truth\": \"The stated goal of OpenAI is to \\'advance digital intelligence in the way that is most likely to benefit humanity as a whole.\\'\"\\n  },\\n  {\\n    \"prompt\": \"What did OpenAI release in 2016?\",\\n    \"ground_truth\": \"OpenAI released \\'OpenAI Gym\\' in 2016, a toolkit for developing and comparing reinforcement learning algorithms.\"\\n  },\\n  {\\n    \"prompt\": \"What did OpenAI achieve in the early years?\",\\n    \"ground_truth\": \"OpenAI made significant progress in research in deep learning and reinforcement learning in the early years.\"\\n  }\\n]'"
      ]
     },
     "execution_count": 13,
     "metadata": {},
     "output_type": "execute_result"
    }
   ],
   "source": [
    "generated_prompts\n"
   ]
  },
  {
   "cell_type": "code",
   "execution_count": 15,
   "metadata": {},
   "outputs": [
    {
     "data": {
      "text/plain": [
       "[{'prompt': \"When did OpenAI showcase the capabilities of reinforcement learning algorithms through its 'OpenAI Five' project?\",\n",
       "  'ground_truth': 'OpenAI showcased the capabilities of these reinforcement learning algorithms through its ‘OpenAI Five’ project in 2018.'},\n",
       " {'prompt': 'Who founded OpenAI?',\n",
       "  'ground_truth': 'OpenAI was initially founded in 2015 by Sam Altman, Elon Musk, Ilya Sutskever and Greg Brockman.'},\n",
       " {'prompt': 'What is the goal of OpenAI?',\n",
       "  'ground_truth': \"The stated goal of OpenAI is to 'advance digital intelligence in the way that is most likely to benefit humanity as a whole.'\"},\n",
       " {'prompt': 'What did OpenAI release in 2016?',\n",
       "  'ground_truth': \"OpenAI released 'OpenAI Gym' in 2016, a toolkit for developing and comparing reinforcement learning algorithms.\"},\n",
       " {'prompt': 'What did OpenAI achieve in the early years?',\n",
       "  'ground_truth': 'OpenAI made significant progress in research in deep learning and reinforcement learning in the early years.'}]"
      ]
     },
     "execution_count": 15,
     "metadata": {},
     "output_type": "execute_result"
    },
    {
     "name": "stderr",
     "output_type": "stream",
     "text": [
      "{\"level\":\"info\",\"msg\":\"Created shard langchain_249710fa43a04b028c6088aa0bcb5637_5JcTAjbnLlS2 in 2.811321ms\",\"time\":\"2024-01-18T23:23:19+03:00\"}\n",
      "{\"action\":\"hnsw_vector_cache_prefill\",\"count\":1000,\"index_id\":\"main\",\"level\":\"info\",\"limit\":1000000000000,\"msg\":\"prefilled vector cache\",\"time\":\"2024-01-18T23:23:19+03:00\",\"took\":463004}\n",
      "{\"level\":\"info\",\"msg\":\"Created shard langchain_4b51e0a56e34429294183d836886bbf5_chZtzv3vlG0X in 1.083476ms\",\"time\":\"2024-01-18T23:25:50+03:00\"}\n",
      "{\"action\":\"hnsw_vector_cache_prefill\",\"count\":1000,\"index_id\":\"main\",\"level\":\"info\",\"limit\":1000000000000,\"msg\":\"prefilled vector cache\",\"time\":\"2024-01-18T23:25:50+03:00\",\"took\":164332}\n",
      "{\"level\":\"info\",\"msg\":\"Created shard langchain_dfad81fac8e04bf9a5dc95399e7c1293_mUFMm1hng3t7 in 969.508µs\",\"time\":\"2024-01-18T23:31:55+03:00\"}\n",
      "{\"action\":\"hnsw_vector_cache_prefill\",\"count\":1000,\"index_id\":\"main\",\"level\":\"info\",\"limit\":1000000000000,\"msg\":\"prefilled vector cache\",\"time\":\"2024-01-18T23:31:55+03:00\",\"took\":99800}\n"
     ]
    }
   ],
   "source": [
    "import json\n",
    "prompt_data = json.loads(generated_prompts)\n",
    "prompt_data"
   ]
  }
 ],
 "metadata": {
  "kernelspec": {
   "display_name": "tenx_week6",
   "language": "python",
   "name": "python3"
  },
  "language_info": {
   "codemirror_mode": {
    "name": "ipython",
    "version": 3
   },
   "file_extension": ".py",
   "mimetype": "text/x-python",
   "name": "python",
   "nbconvert_exporter": "python",
   "pygments_lexer": "ipython3",
   "version": "3.12.0"
  }
 },
 "nbformat": 4,
 "nbformat_minor": 2
}
