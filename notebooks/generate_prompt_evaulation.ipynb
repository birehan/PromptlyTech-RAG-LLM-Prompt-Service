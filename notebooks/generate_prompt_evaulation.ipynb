{
 "cells": [
  {
   "cell_type": "code",
   "execution_count": 1,
   "metadata": {},
   "outputs": [],
   "source": [
    "import os\n",
    "import sys\n",
    "sys.path.append(os.path.abspath(os.path.join('../utility')))"
   ]
  },
  {
   "cell_type": "code",
   "execution_count": 2,
   "metadata": {},
   "outputs": [
    {
     "name": "stderr",
     "output_type": "stream",
     "text": [
      "/home/babi/miniconda3/envs/tenx_week6/lib/python3.12/site-packages/tqdm/auto.py:21: TqdmWarning: IProgress not found. Please update jupyter and ipywidgets. See https://ipywidgets.readthedocs.io/en/stable/user_install.html\n",
      "  from .autonotebook import tqdm as notebook_tqdm\n"
     ]
    }
   ],
   "source": [
    "from rag_utils import  get_generated_prompt_with_evaulation"
   ]
  },
  {
   "cell_type": "code",
   "execution_count": 3,
   "metadata": {},
   "outputs": [
    {
     "name": "stderr",
     "output_type": "stream",
     "text": [
      "2024-01-19 20:13:19,463:logger:data loaded to vector database successfully\n",
      "{\"action\":\"startup\",\"default_vectorizer_module\":\"none\",\"level\":\"info\",\"msg\":\"the default vectorizer modules is set to \\\"none\\\", as a result all new schema classes without an explicit vectorizer setting, will use this vectorizer\",\"time\":\"2024-01-19T20:13:19+03:00\"}\n",
      "{\"action\":\"startup\",\"auto_schema_enabled\":true,\"level\":\"info\",\"msg\":\"auto schema enabled setting is set to \\\"true\\\"\",\"time\":\"2024-01-19T20:13:19+03:00\"}\n",
      "{\"level\":\"info\",\"msg\":\"No resource limits set, weaviate will use all available memory and CPU. To limit resources, set LIMIT_RESOURCES=true\",\"time\":\"2024-01-19T20:13:19+03:00\"}\n"
     ]
    },
    {
     "name": "stdout",
     "output_type": "stream",
     "text": [
      "Started /home/babi/.cache/weaviate-embedded: process ID 115238\n"
     ]
    },
    {
     "name": "stderr",
     "output_type": "stream",
     "text": [
      "{\"level\":\"warning\",\"msg\":\"Multiple vector spaces are present, GraphQL Explore and REST API list objects endpoint module include params has been disabled as a result.\",\"time\":\"2024-01-19T20:13:19+03:00\"}\n",
      "{\"action\":\"grpc_startup\",\"level\":\"info\",\"msg\":\"grpc server listening at [::]:50060\",\"time\":\"2024-01-19T20:13:19+03:00\"}\n",
      "{\"action\":\"restapi_management\",\"level\":\"info\",\"msg\":\"Serving weaviate at http://127.0.0.1:8079\",\"time\":\"2024-01-19T20:13:19+03:00\"}\n",
      "/home/babi/miniconda3/envs/tenx_week6/lib/python3.12/site-packages/langchain_core/_api/deprecation.py:117: LangChainDeprecationWarning: The class `langchain_community.embeddings.openai.OpenAIEmbeddings` was deprecated in langchain-community 0.1.0 and will be removed in 0.2.0. An updated version of the class exists in the langchain-openai package and should be used instead. To use it run `pip install -U langchain-openai` and import as `from langchain_openai import OpenAIEmbeddings`.\n",
      "  warn_deprecated(\n",
      "{\"level\":\"info\",\"msg\":\"Created shard langchain_27dcfe368f6b4d958ffa669f7933d370_l6OE6laKks9L in 921.503µs\",\"time\":\"2024-01-19T20:13:20+03:00\"}\n",
      "{\"action\":\"hnsw_vector_cache_prefill\",\"count\":1000,\"index_id\":\"main\",\"level\":\"info\",\"limit\":1000000000000,\"msg\":\"prefilled vector cache\",\"time\":\"2024-01-19T20:13:20+03:00\",\"took\":117109}\n",
      "{\"level\":\"info\",\"msg\":\"Completed loading shard langchain_133fb572c0784fe9b7544b27354d2e3a_4kCtu55fH4aJ in 1.357126ms\",\"time\":\"2024-01-19T20:13:20+03:00\"}\n",
      "{\"level\":\"info\",\"msg\":\"Completed loading shard langchain_0a43cce8a9f54813a3ad4f3d498d6434_NISdUtmHet4a in 1.04691ms\",\"time\":\"2024-01-19T20:13:20+03:00\"}\n",
      "{\"action\":\"hnsw_vector_cache_prefill\",\"count\":3000,\"index_id\":\"main\",\"level\":\"info\",\"limit\":1000000000000,\"msg\":\"prefilled vector cache\",\"time\":\"2024-01-19T20:13:20+03:00\",\"took\":126567}\n",
      "{\"action\":\"hnsw_vector_cache_prefill\",\"count\":3000,\"index_id\":\"main\",\"level\":\"info\",\"limit\":1000000000000,\"msg\":\"prefilled vector cache\",\"time\":\"2024-01-19T20:13:20+03:00\",\"took\":110532}\n",
      "{\"level\":\"info\",\"msg\":\"Completed loading shard langchain_0312ef7773c64bd5a9d3d2ba96f090fb_0TLKGeLxTnEG in 2.245338ms\",\"time\":\"2024-01-19T20:13:20+03:00\"}\n",
      "{\"action\":\"hnsw_vector_cache_prefill\",\"count\":3000,\"index_id\":\"main\",\"level\":\"info\",\"limit\":1000000000000,\"msg\":\"prefilled vector cache\",\"time\":\"2024-01-19T20:13:20+03:00\",\"took\":106070}\n",
      "{\"level\":\"info\",\"msg\":\"Completed loading shard langchain_0b81d9e3eaff430ca773ae73e8746670_O2AHC9ofO3bw in 2.913526ms\",\"time\":\"2024-01-19T20:13:20+03:00\"}\n",
      "{\"action\":\"hnsw_vector_cache_prefill\",\"count\":3000,\"index_id\":\"main\",\"level\":\"info\",\"limit\":1000000000000,\"msg\":\"prefilled vector cache\",\"time\":\"2024-01-19T20:13:20+03:00\",\"took\":209168}\n",
      "{\"level\":\"info\",\"msg\":\"Completed loading shard langchain_50957979f294425586dea6a1fc969dbd_jjAnWw4sTNE0 in 3.811146ms\",\"time\":\"2024-01-19T20:13:20+03:00\"}\n",
      "{\"level\":\"info\",\"msg\":\"Completed loading shard langchain_4b51e0a56e34429294183d836886bbf5_chZtzv3vlG0X in 3.370184ms\",\"time\":\"2024-01-19T20:13:20+03:00\"}\n",
      "{\"action\":\"hnsw_vector_cache_prefill\",\"count\":3000,\"index_id\":\"main\",\"level\":\"info\",\"limit\":1000000000000,\"msg\":\"prefilled vector cache\",\"time\":\"2024-01-19T20:13:20+03:00\",\"took\":146143}\n",
      "{\"action\":\"hnsw_vector_cache_prefill\",\"count\":3000,\"index_id\":\"main\",\"level\":\"info\",\"limit\":1000000000000,\"msg\":\"prefilled vector cache\",\"time\":\"2024-01-19T20:13:20+03:00\",\"took\":144557}\n",
      "{\"level\":\"info\",\"msg\":\"Completed loading shard langchain_66b4400d9994425ca7e1eb543bcb3041_MpzRapwC4z4d in 24.868344ms\",\"time\":\"2024-01-19T20:13:20+03:00\"}\n",
      "{\"action\":\"hnsw_vector_cache_prefill\",\"count\":3000,\"index_id\":\"main\",\"level\":\"info\",\"limit\":1000000000000,\"msg\":\"prefilled vector cache\",\"time\":\"2024-01-19T20:13:20+03:00\",\"took\":128259}\n",
      "{\"level\":\"info\",\"msg\":\"Completed loading shard langchain_249710fa43a04b028c6088aa0bcb5637_5JcTAjbnLlS2 in 29.313404ms\",\"time\":\"2024-01-19T20:13:20+03:00\"}\n",
      "{\"level\":\"info\",\"msg\":\"Completed loading shard langchain_c7caa635303c448e95b5f71ba08b2956_aFk0U0CKJvlt in 16.071604ms\",\"time\":\"2024-01-19T20:13:20+03:00\"}\n",
      "{\"action\":\"hnsw_vector_cache_prefill\",\"count\":3000,\"index_id\":\"main\",\"level\":\"info\",\"limit\":1000000000000,\"msg\":\"prefilled vector cache\",\"time\":\"2024-01-19T20:13:20+03:00\",\"took\":125988}\n",
      "{\"level\":\"info\",\"msg\":\"Completed loading shard langchain_ac8d1707c3e14e42b2f3bb65ab8540f3_fgTj1UOo3Lyl in 28.170945ms\",\"time\":\"2024-01-19T20:13:20+03:00\"}\n",
      "{\"action\":\"hnsw_vector_cache_prefill\",\"count\":3000,\"index_id\":\"main\",\"level\":\"info\",\"limit\":1000000000000,\"msg\":\"prefilled vector cache\",\"time\":\"2024-01-19T20:13:20+03:00\",\"took\":123766}\n",
      "{\"level\":\"info\",\"msg\":\"Completed loading shard langchain_fdfed8d23d1a4ed68f96696c92af7b45_azU29epaDNmO in 16.689816ms\",\"time\":\"2024-01-19T20:13:20+03:00\"}\n",
      "{\"action\":\"hnsw_vector_cache_prefill\",\"count\":3000,\"index_id\":\"main\",\"level\":\"info\",\"limit\":1000000000000,\"msg\":\"prefilled vector cache\",\"time\":\"2024-01-19T20:13:20+03:00\",\"took\":186523}\n",
      "{\"level\":\"info\",\"msg\":\"Completed loading shard langchain_1ce42fd9e730438cb975281984762d81_wiq6iQ2n0QO1 in 31.88509ms\",\"time\":\"2024-01-19T20:13:20+03:00\"}\n",
      "{\"level\":\"info\",\"msg\":\"Completed loading shard langchain_dfad81fac8e04bf9a5dc95399e7c1293_mUFMm1hng3t7 in 30.165669ms\",\"time\":\"2024-01-19T20:13:20+03:00\"}\n",
      "{\"action\":\"hnsw_vector_cache_prefill\",\"count\":3000,\"index_id\":\"main\",\"level\":\"info\",\"limit\":1000000000000,\"msg\":\"prefilled vector cache\",\"time\":\"2024-01-19T20:13:20+03:00\",\"took\":181218}\n",
      "{\"level\":\"info\",\"msg\":\"Completed loading shard langchain_a123bfc441ec42dc975cdacf35cc9168_H2WVKppAR39N in 20.783575ms\",\"time\":\"2024-01-19T20:13:20+03:00\"}\n",
      "{\"level\":\"info\",\"msg\":\"Completed loading shard langchain_5ce0983842194bea9e99d259f65cc4a8_lE0K6y1kCAbu in 30.591366ms\",\"time\":\"2024-01-19T20:13:20+03:00\"}\n",
      "{\"action\":\"hnsw_vector_cache_prefill\",\"count\":3000,\"index_id\":\"main\",\"level\":\"info\",\"limit\":1000000000000,\"msg\":\"prefilled vector cache\",\"time\":\"2024-01-19T20:13:20+03:00\",\"took\":2227572}\n",
      "{\"action\":\"hnsw_vector_cache_prefill\",\"count\":3000,\"index_id\":\"main\",\"level\":\"info\",\"limit\":1000000000000,\"msg\":\"prefilled vector cache\",\"time\":\"2024-01-19T20:13:20+03:00\",\"took\":170927}\n",
      "{\"level\":\"info\",\"msg\":\"Completed loading shard langchain_3befa79eada749aea183be1ebacf70bd_WMM4etojJlF5 in 33.013427ms\",\"time\":\"2024-01-19T20:13:20+03:00\"}\n",
      "{\"action\":\"hnsw_vector_cache_prefill\",\"count\":3000,\"index_id\":\"main\",\"level\":\"info\",\"limit\":1000000000000,\"msg\":\"prefilled vector cache\",\"time\":\"2024-01-19T20:13:20+03:00\",\"took\":1718898}\n",
      "{\"action\":\"hnsw_vector_cache_prefill\",\"count\":3000,\"index_id\":\"main\",\"level\":\"info\",\"limit\":1000000000000,\"msg\":\"prefilled vector cache\",\"time\":\"2024-01-19T20:13:20+03:00\",\"took\":955067}\n",
      "{\"action\":\"hnsw_vector_cache_prefill\",\"count\":3000,\"index_id\":\"main\",\"level\":\"info\",\"limit\":1000000000000,\"msg\":\"prefilled vector cache\",\"time\":\"2024-01-19T20:13:20+03:00\",\"took\":20788280}\n",
      "{\"level\":\"info\",\"msg\":\"Completed loading shard langchain_79e2deca675b44f1b61e27b674dd9659_urhVawsDj8pD in 71.292078ms\",\"time\":\"2024-01-19T20:13:20+03:00\"}\n",
      "{\"action\":\"hnsw_vector_cache_prefill\",\"count\":3000,\"index_id\":\"main\",\"level\":\"info\",\"limit\":1000000000000,\"msg\":\"prefilled vector cache\",\"time\":\"2024-01-19T20:13:20+03:00\",\"took\":116735}\n",
      "{\"level\":\"info\",\"msg\":\"Completed loading shard langchain_bd28b646c29f4dfaa4406f82e93d590c_bIenm7yfBFIv in 70.738204ms\",\"time\":\"2024-01-19T20:13:20+03:00\"}\n",
      "{\"level\":\"info\",\"msg\":\"Completed loading shard langchain_7ab4e39a2959450f9d25c4f094c1ed65_RbKsTje6S11Q in 71.3834ms\",\"time\":\"2024-01-19T20:13:20+03:00\"}\n",
      "{\"level\":\"info\",\"msg\":\"Completed loading shard langchain_a136104104f14d6ab12f98e6d39d11ca_1sAiUUcGKQew in 61.922368ms\",\"time\":\"2024-01-19T20:13:20+03:00\"}\n",
      "{\"action\":\"hnsw_vector_cache_prefill\",\"count\":3000,\"index_id\":\"main\",\"level\":\"info\",\"limit\":1000000000000,\"msg\":\"prefilled vector cache\",\"time\":\"2024-01-19T20:13:20+03:00\",\"took\":132045}\n",
      "{\"level\":\"info\",\"msg\":\"Completed loading shard langchain_1f41348bf9cd4390b44def9261cf2bc8_XKxlbIuwtk65 in 73.571852ms\",\"time\":\"2024-01-19T20:13:20+03:00\"}\n",
      "{\"action\":\"hnsw_vector_cache_prefill\",\"count\":3000,\"index_id\":\"main\",\"level\":\"info\",\"limit\":1000000000000,\"msg\":\"prefilled vector cache\",\"time\":\"2024-01-19T20:13:20+03:00\",\"took\":1179132}\n",
      "{\"level\":\"info\",\"msg\":\"Completed loading shard langchain_7b7f5764552a48a7af2fcbbc8a09143e_3COgv4JNXIVP in 74.790184ms\",\"time\":\"2024-01-19T20:13:20+03:00\"}\n",
      "{\"level\":\"info\",\"msg\":\"Completed loading shard langchain_5125cd6873384faa9eb7e1ce526d7323_ZPDkffgDLlLD in 63.202968ms\",\"time\":\"2024-01-19T20:13:20+03:00\"}\n",
      "{\"action\":\"hnsw_vector_cache_prefill\",\"count\":3000,\"index_id\":\"main\",\"level\":\"info\",\"limit\":1000000000000,\"msg\":\"prefilled vector cache\",\"time\":\"2024-01-19T20:13:20+03:00\",\"took\":118125}\n",
      "{\"level\":\"info\",\"msg\":\"Completed loading shard langchain_6d770baf40a84c93824e03a28cb7f5dc_0xSq7UdVBXTv in 73.205457ms\",\"time\":\"2024-01-19T20:13:20+03:00\"}\n",
      "{\"action\":\"hnsw_vector_cache_prefill\",\"count\":3000,\"index_id\":\"main\",\"level\":\"info\",\"limit\":1000000000000,\"msg\":\"prefilled vector cache\",\"time\":\"2024-01-19T20:13:20+03:00\",\"took\":896100}\n",
      "{\"level\":\"info\",\"msg\":\"Completed loading shard langchain_bfaff2a87a6e4702a0d2e8b9266c84cd_4mJJfq4i1k3P in 74.818364ms\",\"time\":\"2024-01-19T20:13:20+03:00\"}\n",
      "{\"action\":\"hnsw_vector_cache_prefill\",\"count\":3000,\"index_id\":\"main\",\"level\":\"info\",\"limit\":1000000000000,\"msg\":\"prefilled vector cache\",\"time\":\"2024-01-19T20:13:20+03:00\",\"took\":110083}\n",
      "{\"action\":\"hnsw_vector_cache_prefill\",\"count\":3000,\"index_id\":\"main\",\"level\":\"info\",\"limit\":1000000000000,\"msg\":\"prefilled vector cache\",\"time\":\"2024-01-19T20:13:20+03:00\",\"took\":934289}\n",
      "{\"level\":\"info\",\"msg\":\"Completed loading shard langchain_4d0a9a62ea9d447ab137ed1062a18e7f_qcocbx6c3vWD in 64.782793ms\",\"time\":\"2024-01-19T20:13:20+03:00\"}\n",
      "{\"action\":\"hnsw_vector_cache_prefill\",\"count\":3000,\"index_id\":\"main\",\"level\":\"info\",\"limit\":1000000000000,\"msg\":\"prefilled vector cache\",\"time\":\"2024-01-19T20:13:20+03:00\",\"took\":115117}\n",
      "{\"level\":\"info\",\"msg\":\"Completed loading shard langchain_fdee1dcd1aa348acac39bccdbdaddd81_R7hDToyb91tX in 73.596255ms\",\"time\":\"2024-01-19T20:13:20+03:00\"}\n",
      "{\"action\":\"hnsw_vector_cache_prefill\",\"count\":3000,\"index_id\":\"main\",\"level\":\"info\",\"limit\":1000000000000,\"msg\":\"prefilled vector cache\",\"time\":\"2024-01-19T20:13:20+03:00\",\"took\":100416}\n",
      "{\"level\":\"info\",\"msg\":\"Completed loading shard langchain_28f3bb7c9b5247ca9a2432f01796c027_a8dhg0N9Rrpj in 65.468209ms\",\"time\":\"2024-01-19T20:13:20+03:00\"}\n",
      "{\"action\":\"hnsw_vector_cache_prefill\",\"count\":3000,\"index_id\":\"main\",\"level\":\"info\",\"limit\":1000000000000,\"msg\":\"prefilled vector cache\",\"time\":\"2024-01-19T20:13:20+03:00\",\"took\":178197}\n",
      "{\"level\":\"info\",\"msg\":\"Completed loading shard langchain_83bb50859fcf4f7dbda201a126101d39_GjLVFWvBwn0m in 66.008339ms\",\"time\":\"2024-01-19T20:13:20+03:00\"}\n",
      "{\"action\":\"hnsw_vector_cache_prefill\",\"count\":3000,\"index_id\":\"main\",\"level\":\"info\",\"limit\":1000000000000,\"msg\":\"prefilled vector cache\",\"time\":\"2024-01-19T20:13:20+03:00\",\"took\":99701}\n",
      "{\"level\":\"info\",\"msg\":\"Completed loading shard langchain_3773278af3bf44c6974be51681bd1435_rGM6mbuHbah4 in 65.903443ms\",\"time\":\"2024-01-19T20:13:20+03:00\"}\n",
      "{\"action\":\"hnsw_vector_cache_prefill\",\"count\":3000,\"index_id\":\"main\",\"level\":\"info\",\"limit\":1000000000000,\"msg\":\"prefilled vector cache\",\"time\":\"2024-01-19T20:13:20+03:00\",\"took\":2618313}\n",
      "{\"action\":\"hnsw_vector_cache_prefill\",\"count\":3000,\"index_id\":\"main\",\"level\":\"info\",\"limit\":1000000000000,\"msg\":\"prefilled vector cache\",\"time\":\"2024-01-19T20:13:20+03:00\",\"took\":201663}\n",
      "{\"level\":\"info\",\"msg\":\"Completed loading shard langchain_27909b9fdb7a488d8ff0a8d01137ed9a_IFose2oTztrN in 66.220779ms\",\"time\":\"2024-01-19T20:13:20+03:00\"}\n",
      "{\"action\":\"hnsw_vector_cache_prefill\",\"count\":3000,\"index_id\":\"main\",\"level\":\"info\",\"limit\":1000000000000,\"msg\":\"prefilled vector cache\",\"time\":\"2024-01-19T20:13:20+03:00\",\"took\":99174}\n",
      "{\"level\":\"info\",\"msg\":\"Completed loading shard langchain_653cbe3e6689480293e4a8215b930959_nlo2bDOgVacv in 66.729818ms\",\"time\":\"2024-01-19T20:13:20+03:00\"}\n",
      "{\"level\":\"info\",\"msg\":\"Completed loading shard langchain_baa7b447464f4fdbb3aca5187cb22e74_dtviWxFZoxRT in 67.814009ms\",\"time\":\"2024-01-19T20:13:20+03:00\"}\n",
      "{\"level\":\"info\",\"msg\":\"Completed loading shard langchain_a0795a009713456ca35fb1fb03d0eb02_9pzvFtVa9APs in 68.29712ms\",\"time\":\"2024-01-19T20:13:20+03:00\"}\n",
      "{\"action\":\"hnsw_vector_cache_prefill\",\"count\":3000,\"index_id\":\"main\",\"level\":\"info\",\"limit\":1000000000000,\"msg\":\"prefilled vector cache\",\"time\":\"2024-01-19T20:13:20+03:00\",\"took\":154842}\n",
      "{\"level\":\"info\",\"msg\":\"Completed loading shard langchain_3dae534c1d4b4e1d837fe6bf85642817_giWKfwQSgDlY in 78.042917ms\",\"time\":\"2024-01-19T20:13:20+03:00\"}\n",
      "{\"action\":\"hnsw_vector_cache_prefill\",\"count\":3000,\"index_id\":\"main\",\"level\":\"info\",\"limit\":1000000000000,\"msg\":\"prefilled vector cache\",\"time\":\"2024-01-19T20:13:20+03:00\",\"took\":17915257}\n",
      "{\"action\":\"hnsw_vector_cache_prefill\",\"count\":3000,\"index_id\":\"main\",\"level\":\"info\",\"limit\":1000000000000,\"msg\":\"prefilled vector cache\",\"time\":\"2024-01-19T20:13:20+03:00\",\"took\":147591}\n",
      "{\"action\":\"hnsw_vector_cache_prefill\",\"count\":3000,\"index_id\":\"main\",\"level\":\"info\",\"limit\":1000000000000,\"msg\":\"prefilled vector cache\",\"time\":\"2024-01-19T20:13:20+03:00\",\"took\":9257598}\n",
      "{\"action\":\"hnsw_vector_cache_prefill\",\"count\":3000,\"index_id\":\"main\",\"level\":\"info\",\"limit\":1000000000000,\"msg\":\"prefilled vector cache\",\"time\":\"2024-01-19T20:13:20+03:00\",\"took\":10600655}\n",
      "/home/babi/miniconda3/envs/tenx_week6/lib/python3.12/site-packages/langchain_community/embeddings/openai.py:500: PydanticDeprecatedSince20: The `dict` method is deprecated; use `model_dump` instead. Deprecated in Pydantic V2.0 to be removed in V3.0. See Pydantic V2 Migration Guide at https://errors.pydantic.dev/2.5/migration/\n",
      "  response = response.dict()\n",
      "/home/babi/miniconda3/envs/tenx_week6/lib/python3.12/site-packages/pydantic/main.py:979: PydanticDeprecatedSince20: The `dict` method is deprecated; use `model_dump` instead. Deprecated in Pydantic V2.0 to be removed in V3.0. See Pydantic V2 Migration Guide at https://errors.pydantic.dev/2.5/migration/\n",
      "  warnings.warn('The `dict` method is deprecated; use `model_dump` instead.', DeprecationWarning)\n",
      "2024-01-19 20:13:21,752:logger:automatic evaluation data generated succesfully.\n",
      "/home/babi/miniconda3/envs/tenx_week6/lib/python3.12/site-packages/langchain_core/_api/deprecation.py:117: LangChainDeprecationWarning: The class `langchain_community.chat_models.openai.ChatOpenAI` was deprecated in langchain-community 0.0.10 and will be removed in 0.2.0. An updated version of the class exists in the langchain-openai package and should be used instead. To use it run `pip install -U langchain-openai` and import as `from langchain_openai import ChatOpenAI`.\n",
      "  warn_deprecated(\n",
      "2024-01-19 20:13:21,842:logger:langchain with rag pipeline created successfully.\n",
      "2024-01-19 20:13:21,913:logger:langchain with rag pipeline created successfully.\n",
      "/home/babi/miniconda3/envs/tenx_week6/lib/python3.12/site-packages/langchain_community/embeddings/openai.py:500: PydanticDeprecatedSince20: The `dict` method is deprecated; use `model_dump` instead. Deprecated in Pydantic V2.0 to be removed in V3.0. See Pydantic V2 Migration Guide at https://errors.pydantic.dev/2.5/migration/\n",
      "  response = response.dict()\n",
      "/home/babi/miniconda3/envs/tenx_week6/lib/python3.12/site-packages/pydantic/main.py:979: PydanticDeprecatedSince20: The `dict` method is deprecated; use `model_dump` instead. Deprecated in Pydantic V2.0 to be removed in V3.0. See Pydantic V2 Migration Guide at https://errors.pydantic.dev/2.5/migration/\n",
      "  warnings.warn('The `dict` method is deprecated; use `model_dump` instead.', DeprecationWarning)\n",
      "/home/babi/miniconda3/envs/tenx_week6/lib/python3.12/site-packages/langchain_community/chat_models/openai.py:458: PydanticDeprecatedSince20: The `dict` method is deprecated; use `model_dump` instead. Deprecated in Pydantic V2.0 to be removed in V3.0. See Pydantic V2 Migration Guide at https://errors.pydantic.dev/2.5/migration/\n",
      "  response = response.dict()\n",
      "/home/babi/miniconda3/envs/tenx_week6/lib/python3.12/site-packages/pydantic/main.py:979: PydanticDeprecatedSince20: The `dict` method is deprecated; use `model_dump` instead. Deprecated in Pydantic V2.0 to be removed in V3.0. See Pydantic V2 Migration Guide at https://errors.pydantic.dev/2.5/migration/\n",
      "  warnings.warn('The `dict` method is deprecated; use `model_dump` instead.', DeprecationWarning)\n",
      "/home/babi/miniconda3/envs/tenx_week6/lib/python3.12/site-packages/langchain_community/embeddings/openai.py:500: PydanticDeprecatedSince20: The `dict` method is deprecated; use `model_dump` instead. Deprecated in Pydantic V2.0 to be removed in V3.0. See Pydantic V2 Migration Guide at https://errors.pydantic.dev/2.5/migration/\n",
      "  response = response.dict()\n",
      "/home/babi/miniconda3/envs/tenx_week6/lib/python3.12/site-packages/pydantic/main.py:979: PydanticDeprecatedSince20: The `dict` method is deprecated; use `model_dump` instead. Deprecated in Pydantic V2.0 to be removed in V3.0. See Pydantic V2 Migration Guide at https://errors.pydantic.dev/2.5/migration/\n",
      "  warnings.warn('The `dict` method is deprecated; use `model_dump` instead.', DeprecationWarning)\n",
      "/home/babi/miniconda3/envs/tenx_week6/lib/python3.12/site-packages/langchain_community/chat_models/openai.py:458: PydanticDeprecatedSince20: The `dict` method is deprecated; use `model_dump` instead. Deprecated in Pydantic V2.0 to be removed in V3.0. See Pydantic V2 Migration Guide at https://errors.pydantic.dev/2.5/migration/\n",
      "  response = response.dict()\n",
      "/home/babi/miniconda3/envs/tenx_week6/lib/python3.12/site-packages/pydantic/main.py:979: PydanticDeprecatedSince20: The `dict` method is deprecated; use `model_dump` instead. Deprecated in Pydantic V2.0 to be removed in V3.0. See Pydantic V2 Migration Guide at https://errors.pydantic.dev/2.5/migration/\n",
      "  warnings.warn('The `dict` method is deprecated; use `model_dump` instead.', DeprecationWarning)\n",
      "/home/babi/miniconda3/envs/tenx_week6/lib/python3.12/site-packages/langchain_community/embeddings/openai.py:500: PydanticDeprecatedSince20: The `dict` method is deprecated; use `model_dump` instead. Deprecated in Pydantic V2.0 to be removed in V3.0. See Pydantic V2 Migration Guide at https://errors.pydantic.dev/2.5/migration/\n",
      "  response = response.dict()\n",
      "/home/babi/miniconda3/envs/tenx_week6/lib/python3.12/site-packages/pydantic/main.py:979: PydanticDeprecatedSince20: The `dict` method is deprecated; use `model_dump` instead. Deprecated in Pydantic V2.0 to be removed in V3.0. See Pydantic V2 Migration Guide at https://errors.pydantic.dev/2.5/migration/\n",
      "  warnings.warn('The `dict` method is deprecated; use `model_dump` instead.', DeprecationWarning)\n",
      "/home/babi/miniconda3/envs/tenx_week6/lib/python3.12/site-packages/langchain_community/embeddings/openai.py:500: PydanticDeprecatedSince20: The `dict` method is deprecated; use `model_dump` instead. Deprecated in Pydantic V2.0 to be removed in V3.0. See Pydantic V2 Migration Guide at https://errors.pydantic.dev/2.5/migration/\n",
      "  response = response.dict()\n",
      "/home/babi/miniconda3/envs/tenx_week6/lib/python3.12/site-packages/pydantic/main.py:979: PydanticDeprecatedSince20: The `dict` method is deprecated; use `model_dump` instead. Deprecated in Pydantic V2.0 to be removed in V3.0. See Pydantic V2 Migration Guide at https://errors.pydantic.dev/2.5/migration/\n",
      "  warnings.warn('The `dict` method is deprecated; use `model_dump` instead.', DeprecationWarning)\n",
      "/home/babi/miniconda3/envs/tenx_week6/lib/python3.12/site-packages/langchain_community/chat_models/openai.py:458: PydanticDeprecatedSince20: The `dict` method is deprecated; use `model_dump` instead. Deprecated in Pydantic V2.0 to be removed in V3.0. See Pydantic V2 Migration Guide at https://errors.pydantic.dev/2.5/migration/\n",
      "  response = response.dict()\n",
      "/home/babi/miniconda3/envs/tenx_week6/lib/python3.12/site-packages/pydantic/main.py:979: PydanticDeprecatedSince20: The `dict` method is deprecated; use `model_dump` instead. Deprecated in Pydantic V2.0 to be removed in V3.0. See Pydantic V2 Migration Guide at https://errors.pydantic.dev/2.5/migration/\n",
      "  warnings.warn('The `dict` method is deprecated; use `model_dump` instead.', DeprecationWarning)\n",
      "/home/babi/miniconda3/envs/tenx_week6/lib/python3.12/site-packages/langchain_community/embeddings/openai.py:500: PydanticDeprecatedSince20: The `dict` method is deprecated; use `model_dump` instead. Deprecated in Pydantic V2.0 to be removed in V3.0. See Pydantic V2 Migration Guide at https://errors.pydantic.dev/2.5/migration/\n",
      "  response = response.dict()\n",
      "/home/babi/miniconda3/envs/tenx_week6/lib/python3.12/site-packages/pydantic/main.py:979: PydanticDeprecatedSince20: The `dict` method is deprecated; use `model_dump` instead. Deprecated in Pydantic V2.0 to be removed in V3.0. See Pydantic V2 Migration Guide at https://errors.pydantic.dev/2.5/migration/\n",
      "  warnings.warn('The `dict` method is deprecated; use `model_dump` instead.', DeprecationWarning)\n",
      "/home/babi/miniconda3/envs/tenx_week6/lib/python3.12/site-packages/langchain_community/embeddings/openai.py:500: PydanticDeprecatedSince20: The `dict` method is deprecated; use `model_dump` instead. Deprecated in Pydantic V2.0 to be removed in V3.0. See Pydantic V2 Migration Guide at https://errors.pydantic.dev/2.5/migration/\n",
      "  response = response.dict()\n",
      "/home/babi/miniconda3/envs/tenx_week6/lib/python3.12/site-packages/pydantic/main.py:979: PydanticDeprecatedSince20: The `dict` method is deprecated; use `model_dump` instead. Deprecated in Pydantic V2.0 to be removed in V3.0. See Pydantic V2 Migration Guide at https://errors.pydantic.dev/2.5/migration/\n",
      "  warnings.warn('The `dict` method is deprecated; use `model_dump` instead.', DeprecationWarning)\n",
      "/home/babi/miniconda3/envs/tenx_week6/lib/python3.12/site-packages/langchain_community/chat_models/openai.py:458: PydanticDeprecatedSince20: The `dict` method is deprecated; use `model_dump` instead. Deprecated in Pydantic V2.0 to be removed in V3.0. See Pydantic V2 Migration Guide at https://errors.pydantic.dev/2.5/migration/\n",
      "  response = response.dict()\n",
      "/home/babi/miniconda3/envs/tenx_week6/lib/python3.12/site-packages/pydantic/main.py:979: PydanticDeprecatedSince20: The `dict` method is deprecated; use `model_dump` instead. Deprecated in Pydantic V2.0 to be removed in V3.0. See Pydantic V2 Migration Guide at https://errors.pydantic.dev/2.5/migration/\n",
      "  warnings.warn('The `dict` method is deprecated; use `model_dump` instead.', DeprecationWarning)\n",
      "/home/babi/miniconda3/envs/tenx_week6/lib/python3.12/site-packages/langchain_community/embeddings/openai.py:500: PydanticDeprecatedSince20: The `dict` method is deprecated; use `model_dump` instead. Deprecated in Pydantic V2.0 to be removed in V3.0. See Pydantic V2 Migration Guide at https://errors.pydantic.dev/2.5/migration/\n",
      "  response = response.dict()\n",
      "/home/babi/miniconda3/envs/tenx_week6/lib/python3.12/site-packages/pydantic/main.py:979: PydanticDeprecatedSince20: The `dict` method is deprecated; use `model_dump` instead. Deprecated in Pydantic V2.0 to be removed in V3.0. See Pydantic V2 Migration Guide at https://errors.pydantic.dev/2.5/migration/\n",
      "  warnings.warn('The `dict` method is deprecated; use `model_dump` instead.', DeprecationWarning)\n",
      "/home/babi/miniconda3/envs/tenx_week6/lib/python3.12/site-packages/langchain_community/embeddings/openai.py:500: PydanticDeprecatedSince20: The `dict` method is deprecated; use `model_dump` instead. Deprecated in Pydantic V2.0 to be removed in V3.0. See Pydantic V2 Migration Guide at https://errors.pydantic.dev/2.5/migration/\n",
      "  response = response.dict()\n",
      "/home/babi/miniconda3/envs/tenx_week6/lib/python3.12/site-packages/pydantic/main.py:979: PydanticDeprecatedSince20: The `dict` method is deprecated; use `model_dump` instead. Deprecated in Pydantic V2.0 to be removed in V3.0. See Pydantic V2 Migration Guide at https://errors.pydantic.dev/2.5/migration/\n",
      "  warnings.warn('The `dict` method is deprecated; use `model_dump` instead.', DeprecationWarning)\n",
      "/home/babi/miniconda3/envs/tenx_week6/lib/python3.12/site-packages/langchain_community/chat_models/openai.py:458: PydanticDeprecatedSince20: The `dict` method is deprecated; use `model_dump` instead. Deprecated in Pydantic V2.0 to be removed in V3.0. See Pydantic V2 Migration Guide at https://errors.pydantic.dev/2.5/migration/\n",
      "  response = response.dict()\n",
      "/home/babi/miniconda3/envs/tenx_week6/lib/python3.12/site-packages/pydantic/main.py:979: PydanticDeprecatedSince20: The `dict` method is deprecated; use `model_dump` instead. Deprecated in Pydantic V2.0 to be removed in V3.0. See Pydantic V2 Migration Guide at https://errors.pydantic.dev/2.5/migration/\n",
      "  warnings.warn('The `dict` method is deprecated; use `model_dump` instead.', DeprecationWarning)\n",
      "/home/babi/miniconda3/envs/tenx_week6/lib/python3.12/site-packages/langchain_community/embeddings/openai.py:500: PydanticDeprecatedSince20: The `dict` method is deprecated; use `model_dump` instead. Deprecated in Pydantic V2.0 to be removed in V3.0. See Pydantic V2 Migration Guide at https://errors.pydantic.dev/2.5/migration/\n",
      "  response = response.dict()\n",
      "/home/babi/miniconda3/envs/tenx_week6/lib/python3.12/site-packages/pydantic/main.py:979: PydanticDeprecatedSince20: The `dict` method is deprecated; use `model_dump` instead. Deprecated in Pydantic V2.0 to be removed in V3.0. See Pydantic V2 Migration Guide at https://errors.pydantic.dev/2.5/migration/\n",
      "  warnings.warn('The `dict` method is deprecated; use `model_dump` instead.', DeprecationWarning)\n",
      "/home/babi/miniconda3/envs/tenx_week6/lib/python3.12/site-packages/langchain_community/embeddings/openai.py:500: PydanticDeprecatedSince20: The `dict` method is deprecated; use `model_dump` instead. Deprecated in Pydantic V2.0 to be removed in V3.0. See Pydantic V2 Migration Guide at https://errors.pydantic.dev/2.5/migration/\n",
      "  response = response.dict()\n",
      "/home/babi/miniconda3/envs/tenx_week6/lib/python3.12/site-packages/pydantic/main.py:979: PydanticDeprecatedSince20: The `dict` method is deprecated; use `model_dump` instead. Deprecated in Pydantic V2.0 to be removed in V3.0. See Pydantic V2 Migration Guide at https://errors.pydantic.dev/2.5/migration/\n",
      "  warnings.warn('The `dict` method is deprecated; use `model_dump` instead.', DeprecationWarning)\n",
      "/home/babi/miniconda3/envs/tenx_week6/lib/python3.12/site-packages/langchain_community/chat_models/openai.py:458: PydanticDeprecatedSince20: The `dict` method is deprecated; use `model_dump` instead. Deprecated in Pydantic V2.0 to be removed in V3.0. See Pydantic V2 Migration Guide at https://errors.pydantic.dev/2.5/migration/\n",
      "  response = response.dict()\n",
      "/home/babi/miniconda3/envs/tenx_week6/lib/python3.12/site-packages/pydantic/main.py:979: PydanticDeprecatedSince20: The `dict` method is deprecated; use `model_dump` instead. Deprecated in Pydantic V2.0 to be removed in V3.0. See Pydantic V2 Migration Guide at https://errors.pydantic.dev/2.5/migration/\n",
      "  warnings.warn('The `dict` method is deprecated; use `model_dump` instead.', DeprecationWarning)\n",
      "/home/babi/miniconda3/envs/tenx_week6/lib/python3.12/site-packages/langchain_community/embeddings/openai.py:500: PydanticDeprecatedSince20: The `dict` method is deprecated; use `model_dump` instead. Deprecated in Pydantic V2.0 to be removed in V3.0. See Pydantic V2 Migration Guide at https://errors.pydantic.dev/2.5/migration/\n",
      "  response = response.dict()\n",
      "/home/babi/miniconda3/envs/tenx_week6/lib/python3.12/site-packages/pydantic/main.py:979: PydanticDeprecatedSince20: The `dict` method is deprecated; use `model_dump` instead. Deprecated in Pydantic V2.0 to be removed in V3.0. See Pydantic V2 Migration Guide at https://errors.pydantic.dev/2.5/migration/\n",
      "  warnings.warn('The `dict` method is deprecated; use `model_dump` instead.', DeprecationWarning)\n",
      "2024-01-19 20:13:33,736:logger:automatic evaluation data generated succesfully.\n"
     ]
    },
    {
     "name": "stdout",
     "output_type": "stream",
     "text": [
      "evaluating with [context_precision]\n"
     ]
    },
    {
     "name": "stderr",
     "output_type": "stream",
     "text": [
      "/home/babi/miniconda3/envs/tenx_week6/lib/python3.12/site-packages/tqdm/std.py:580: DeprecationWarning: datetime.datetime.utcfromtimestamp() is deprecated and scheduled for removal in a future version. Use timezone-aware objects to represent datetimes in UTC: datetime.datetime.fromtimestamp(timestamp, datetime.UTC).\n",
      "  if rate and total else datetime.utcfromtimestamp(0))\n",
      "100%|██████████| 1/1 [00:06<00:00,  6.71s/it]\n"
     ]
    },
    {
     "name": "stdout",
     "output_type": "stream",
     "text": [
      "evaluating with [context_recall]\n"
     ]
    },
    {
     "name": "stderr",
     "output_type": "stream",
     "text": [
      "/home/babi/miniconda3/envs/tenx_week6/lib/python3.12/site-packages/tqdm/std.py:580: DeprecationWarning: datetime.datetime.utcfromtimestamp() is deprecated and scheduled for removal in a future version. Use timezone-aware objects to represent datetimes in UTC: datetime.datetime.fromtimestamp(timestamp, datetime.UTC).\n",
      "  if rate and total else datetime.utcfromtimestamp(0))\n",
      "100%|██████████| 1/1 [00:02<00:00,  2.04s/it]\n"
     ]
    },
    {
     "name": "stdout",
     "output_type": "stream",
     "text": [
      "evaluating with [faithfulness]\n"
     ]
    },
    {
     "name": "stderr",
     "output_type": "stream",
     "text": [
      "/home/babi/miniconda3/envs/tenx_week6/lib/python3.12/site-packages/tqdm/std.py:580: DeprecationWarning: datetime.datetime.utcfromtimestamp() is deprecated and scheduled for removal in a future version. Use timezone-aware objects to represent datetimes in UTC: datetime.datetime.fromtimestamp(timestamp, datetime.UTC).\n",
      "  if rate and total else datetime.utcfromtimestamp(0))\n",
      "100%|██████████| 1/1 [00:05<00:00,  5.78s/it]\n"
     ]
    },
    {
     "name": "stdout",
     "output_type": "stream",
     "text": [
      "evaluating with [answer_relevancy]\n"
     ]
    },
    {
     "name": "stderr",
     "output_type": "stream",
     "text": [
      "/home/babi/miniconda3/envs/tenx_week6/lib/python3.12/site-packages/tqdm/std.py:580: DeprecationWarning: datetime.datetime.utcfromtimestamp() is deprecated and scheduled for removal in a future version. Use timezone-aware objects to represent datetimes in UTC: datetime.datetime.fromtimestamp(timestamp, datetime.UTC).\n",
      "  if rate and total else datetime.utcfromtimestamp(0))\n",
      "  0%|          | 0/1 [00:00<?, ?it/s]/home/babi/miniconda3/envs/tenx_week6/lib/python3.12/site-packages/langchain_community/embeddings/openai.py:500: PydanticDeprecatedSince20: The `dict` method is deprecated; use `model_dump` instead. Deprecated in Pydantic V2.0 to be removed in V3.0. See Pydantic V2 Migration Guide at https://errors.pydantic.dev/2.5/migration/\n",
      "  response = response.dict()\n",
      "/home/babi/miniconda3/envs/tenx_week6/lib/python3.12/site-packages/pydantic/main.py:979: PydanticDeprecatedSince20: The `dict` method is deprecated; use `model_dump` instead. Deprecated in Pydantic V2.0 to be removed in V3.0. See Pydantic V2 Migration Guide at https://errors.pydantic.dev/2.5/migration/\n",
      "  warnings.warn('The `dict` method is deprecated; use `model_dump` instead.', DeprecationWarning)\n",
      "100%|██████████| 1/1 [00:13<00:00, 13.22s/it]\n"
     ]
    }
   ],
   "source": [
    "df = get_generated_prompt_with_evaulation(\"generate me prompts which help me understand the challenge document\")"
   ]
  },
  {
   "cell_type": "code",
   "execution_count": 4,
   "metadata": {},
   "outputs": [
    {
     "name": "stderr",
     "output_type": "stream",
     "text": [
      "{\"action\":\"restapi_management\",\"level\":\"info\",\"msg\":\"Shutting down... \",\"time\":\"2024-01-19T20:14:14+03:00\"}\n",
      "{\"action\":\"restapi_management\",\"level\":\"info\",\"msg\":\"Stopped serving weaviate at http://127.0.0.1:8079\",\"time\":\"2024-01-19T20:14:14+03:00\"}\n"
     ]
    },
    {
     "data": {
      "text/html": [
       "<div>\n",
       "<style scoped>\n",
       "    .dataframe tbody tr th:only-of-type {\n",
       "        vertical-align: middle;\n",
       "    }\n",
       "\n",
       "    .dataframe tbody tr th {\n",
       "        vertical-align: top;\n",
       "    }\n",
       "\n",
       "    .dataframe thead th {\n",
       "        text-align: right;\n",
       "    }\n",
       "</style>\n",
       "<table border=\"1\" class=\"dataframe\">\n",
       "  <thead>\n",
       "    <tr style=\"text-align: right;\">\n",
       "      <th></th>\n",
       "      <th>question</th>\n",
       "      <th>answer</th>\n",
       "      <th>contexts</th>\n",
       "      <th>ground_truths</th>\n",
       "      <th>context_precision</th>\n",
       "      <th>context_recall</th>\n",
       "      <th>faithfulness</th>\n",
       "      <th>answer_relevancy</th>\n",
       "    </tr>\n",
       "  </thead>\n",
       "  <tbody>\n",
       "    <tr>\n",
       "      <th>0</th>\n",
       "      <td>What project did OpenAI use to showcase the ca...</td>\n",
       "      <td>OpenAI used the 'OpenAI Five' project to showc...</td>\n",
       "      <td>[OpenAI showcased the capabilities of these re...</td>\n",
       "      <td>[OpenAI Five]</td>\n",
       "      <td>1.0</td>\n",
       "      <td>1.0</td>\n",
       "      <td>1.0</td>\n",
       "      <td>0.999998</td>\n",
       "    </tr>\n",
       "    <tr>\n",
       "      <th>1</th>\n",
       "      <td>When was OpenAI founded?</td>\n",
       "      <td>OpenAI was founded in 2015.</td>\n",
       "      <td>[The early years of OpenAI were marked with ra...</td>\n",
       "      <td>[2015]</td>\n",
       "      <td>0.5</td>\n",
       "      <td>1.0</td>\n",
       "      <td>1.0</td>\n",
       "      <td>0.999999</td>\n",
       "    </tr>\n",
       "    <tr>\n",
       "      <th>2</th>\n",
       "      <td>What is the goal of OpenAI?</td>\n",
       "      <td>The goal of OpenAI is to advance digital intel...</td>\n",
       "      <td>[OpenAI was initially founded in 2015 by Sam A...</td>\n",
       "      <td>[To advance digital intelligence in a way that...</td>\n",
       "      <td>1.0</td>\n",
       "      <td>1.0</td>\n",
       "      <td>1.0</td>\n",
       "      <td>0.999999</td>\n",
       "    </tr>\n",
       "    <tr>\n",
       "      <th>3</th>\n",
       "      <td>What toolkit did OpenAI release in 2016?</td>\n",
       "      <td>OpenAI released the 'OpenAI Gym' toolkit in 2016.</td>\n",
       "      <td>[The early years of OpenAI were marked with ra...</td>\n",
       "      <td>[OpenAI Gym]</td>\n",
       "      <td>1.0</td>\n",
       "      <td>1.0</td>\n",
       "      <td>1.0</td>\n",
       "      <td>0.925318</td>\n",
       "    </tr>\n",
       "    <tr>\n",
       "      <th>4</th>\n",
       "      <td>What game did the AI agents trained by OpenAI ...</td>\n",
       "      <td>The AI agents trained by OpenAI played a game ...</td>\n",
       "      <td>[OpenAI showcased the capabilities of these re...</td>\n",
       "      <td>[Dota 2]</td>\n",
       "      <td>1.0</td>\n",
       "      <td>1.0</td>\n",
       "      <td>1.0</td>\n",
       "      <td>0.999991</td>\n",
       "    </tr>\n",
       "  </tbody>\n",
       "</table>\n",
       "</div>"
      ],
      "text/plain": [
       "                                            question  \\\n",
       "0  What project did OpenAI use to showcase the ca...   \n",
       "1                           When was OpenAI founded?   \n",
       "2                        What is the goal of OpenAI?   \n",
       "3           What toolkit did OpenAI release in 2016?   \n",
       "4  What game did the AI agents trained by OpenAI ...   \n",
       "\n",
       "                                              answer  \\\n",
       "0  OpenAI used the 'OpenAI Five' project to showc...   \n",
       "1                        OpenAI was founded in 2015.   \n",
       "2  The goal of OpenAI is to advance digital intel...   \n",
       "3  OpenAI released the 'OpenAI Gym' toolkit in 2016.   \n",
       "4  The AI agents trained by OpenAI played a game ...   \n",
       "\n",
       "                                            contexts  \\\n",
       "0  [OpenAI showcased the capabilities of these re...   \n",
       "1  [The early years of OpenAI were marked with ra...   \n",
       "2  [OpenAI was initially founded in 2015 by Sam A...   \n",
       "3  [The early years of OpenAI were marked with ra...   \n",
       "4  [OpenAI showcased the capabilities of these re...   \n",
       "\n",
       "                                       ground_truths  context_precision  \\\n",
       "0                                      [OpenAI Five]                1.0   \n",
       "1                                             [2015]                0.5   \n",
       "2  [To advance digital intelligence in a way that...                1.0   \n",
       "3                                       [OpenAI Gym]                1.0   \n",
       "4                                           [Dota 2]                1.0   \n",
       "\n",
       "   context_recall  faithfulness  answer_relevancy  \n",
       "0             1.0           1.0          0.999998  \n",
       "1             1.0           1.0          0.999999  \n",
       "2             1.0           1.0          0.999999  \n",
       "3             1.0           1.0          0.925318  \n",
       "4             1.0           1.0          0.999991  "
      ]
     },
     "execution_count": 4,
     "metadata": {},
     "output_type": "execute_result"
    }
   ],
   "source": [
    "df"
   ]
  },
  {
   "cell_type": "code",
   "execution_count": 5,
   "metadata": {},
   "outputs": [
    {
     "data": {
      "text/plain": [
       "Index(['question', 'answer', 'contexts', 'ground_truths', 'context_precision',\n",
       "       'context_recall', 'faithfulness', 'answer_relevancy'],\n",
       "      dtype='object')"
      ]
     },
     "execution_count": 5,
     "metadata": {},
     "output_type": "execute_result"
    }
   ],
   "source": [
    "df.columns"
   ]
  },
  {
   "cell_type": "code",
   "execution_count": null,
   "metadata": {},
   "outputs": [],
   "source": [
    "import openai  # Or your preferred language model library\n",
    "from sentence_transformers import SentenceTransformer  # Example similarity library\n",
    "import numpy as np\n",
    "from scipy.spatial.distance import cosine\n",
    "\n",
    "# Load your prompts\n",
    "prompts = [\"Prompt 1\", \"Prompt 2\", ...]\n",
    "\n",
    "# Initialize scores and win counts (example using a dictionary)\n",
    "prompt_scores = {prompt: 0 for prompt in prompts}\n",
    "prompt_wins = {prompt: 0 for prompt in prompts}\n",
    "\n",
    "# Define your prompt comparison function\n",
    "def compare_prompts(prompt1, prompt2):\n",
    "    # Calculate similarity or relevance score using your chosen model or metric\n",
    "    embedder = SentenceTransformer('paraphrase-distilroberta-base-v2')  # Example embedding model\n",
    "    scores = embedder.encode([prompt1, prompt2])\n",
    "    similarity = 1 - cosine(scores[0], scores[1])  # Example similarity calculation\n",
    "    return similarity\n",
    "\n",
    "# Monte Carlo loop (pseudocode)\n",
    "for _ in range(num_iterations):\n",
    "    prompt1, prompt2 = select_prompts_randomly(prompts, prompt_scores)\n",
    "    comparison_result = compare_prompts(prompt1, prompt2)\n",
    "    update_scores_and_wins(prompt1, prompt2, comparison_result, prompt_scores, prompt_wins)\n",
    "\n",
    "# Rank prompts based on final scores or win counts\n",
    "ranked_prompts = sort_prompts(prompt_scores)  # Or use prompt_wins\n",
    "print(\"Ranked Prompts:\", ranked_prompts)"
   ]
  }
 ],
 "metadata": {
  "kernelspec": {
   "display_name": "tenx_week6",
   "language": "python",
   "name": "python3"
  },
  "language_info": {
   "codemirror_mode": {
    "name": "ipython",
    "version": 3
   },
   "file_extension": ".py",
   "mimetype": "text/x-python",
   "name": "python",
   "nbconvert_exporter": "python",
   "pygments_lexer": "ipython3",
   "version": "3.12.0"
  }
 },
 "nbformat": 4,
 "nbformat_minor": 2
}
